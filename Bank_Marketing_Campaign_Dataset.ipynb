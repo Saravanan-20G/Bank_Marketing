{
 "cells": [
  {
   "cell_type": "code",
   "execution_count": 1,
   "metadata": {},
   "outputs": [],
   "source": [
    "import pandas as pd\n",
    "import numpy as np\n",
    "\n",
    "#Statistic\n",
    "from scipy import stats\n",
    "\n",
    "#Visualization\n",
    "import plotly.graph_objects as go\n",
    "import plotly.express as px\n",
    "import matplotlib.pyplot as plt\n",
    "import seaborn as sns\n",
    "\n",
    "#Preprocessing\n",
    "from sklearn.preprocessing import OneHotEncoder, StandardScaler\n",
    "\n",
    "#Machine Learning\n",
    "import statsmodels.api as sm\n",
    "from sklearn.model_selection import train_test_split\n",
    "from sklearn.tree import DecisionTreeClassifier\n",
    "from sklearn.metrics import confusion_matrix,accuracy_score"
   ]
  },
  {
   "cell_type": "markdown",
   "metadata": {},
   "source": [
    "# Dataframe"
   ]
  },
  {
   "cell_type": "code",
   "execution_count": 2,
   "metadata": {},
   "outputs": [],
   "source": [
    "df=pd.read_csv(\"C:\\\\Users\\\\Saravanan\\\\OneDrive\\\\Desktop\\\\Datasets_data\\\\Bank Marketing Campaign Dataset.csv\")"
   ]
  },
  {
   "cell_type": "code",
   "execution_count": 3,
   "metadata": {},
   "outputs": [
    {
     "data": {
      "text/html": [
       "<div>\n",
       "<style scoped>\n",
       "    .dataframe tbody tr th:only-of-type {\n",
       "        vertical-align: middle;\n",
       "    }\n",
       "\n",
       "    .dataframe tbody tr th {\n",
       "        vertical-align: top;\n",
       "    }\n",
       "\n",
       "    .dataframe thead th {\n",
       "        text-align: right;\n",
       "    }\n",
       "</style>\n",
       "<table border=\"1\" class=\"dataframe\">\n",
       "  <thead>\n",
       "    <tr style=\"text-align: right;\">\n",
       "      <th></th>\n",
       "      <th>occupation</th>\n",
       "      <th>age</th>\n",
       "      <th>education_level</th>\n",
       "      <th>marital_status</th>\n",
       "      <th>communication_channel</th>\n",
       "      <th>call_month</th>\n",
       "      <th>call_day</th>\n",
       "      <th>call_duration</th>\n",
       "      <th>call_frequency</th>\n",
       "      <th>previous_campaign_outcome</th>\n",
       "      <th>conversion_status</th>\n",
       "    </tr>\n",
       "  </thead>\n",
       "  <tbody>\n",
       "    <tr>\n",
       "      <th>0</th>\n",
       "      <td>administrative_staff</td>\n",
       "      <td>28</td>\n",
       "      <td>high_school</td>\n",
       "      <td>married</td>\n",
       "      <td>unidentified</td>\n",
       "      <td>September</td>\n",
       "      <td>9</td>\n",
       "      <td>1</td>\n",
       "      <td>1</td>\n",
       "      <td>successful</td>\n",
       "      <td>not_converted</td>\n",
       "    </tr>\n",
       "    <tr>\n",
       "      <th>1</th>\n",
       "      <td>administrative_staff</td>\n",
       "      <td>58</td>\n",
       "      <td>unidentified</td>\n",
       "      <td>married</td>\n",
       "      <td>unidentified</td>\n",
       "      <td>June</td>\n",
       "      <td>5</td>\n",
       "      <td>307</td>\n",
       "      <td>2</td>\n",
       "      <td>unidentified</td>\n",
       "      <td>not_converted</td>\n",
       "    </tr>\n",
       "    <tr>\n",
       "      <th>2</th>\n",
       "      <td>jobless</td>\n",
       "      <td>40</td>\n",
       "      <td>high_school</td>\n",
       "      <td>divorced</td>\n",
       "      <td>mobile</td>\n",
       "      <td>February</td>\n",
       "      <td>4</td>\n",
       "      <td>113</td>\n",
       "      <td>1</td>\n",
       "      <td>unidentified</td>\n",
       "      <td>not_converted</td>\n",
       "    </tr>\n",
       "    <tr>\n",
       "      <th>3</th>\n",
       "      <td>retired_worker</td>\n",
       "      <td>63</td>\n",
       "      <td>high_school</td>\n",
       "      <td>married</td>\n",
       "      <td>mobile</td>\n",
       "      <td>April</td>\n",
       "      <td>7</td>\n",
       "      <td>72</td>\n",
       "      <td>5</td>\n",
       "      <td>unidentified</td>\n",
       "      <td>not_converted</td>\n",
       "    </tr>\n",
       "    <tr>\n",
       "      <th>4</th>\n",
       "      <td>business_owner</td>\n",
       "      <td>43</td>\n",
       "      <td>college</td>\n",
       "      <td>married</td>\n",
       "      <td>landline</td>\n",
       "      <td>July</td>\n",
       "      <td>29</td>\n",
       "      <td>184</td>\n",
       "      <td>4</td>\n",
       "      <td>unidentified</td>\n",
       "      <td>not_converted</td>\n",
       "    </tr>\n",
       "    <tr>\n",
       "      <th>...</th>\n",
       "      <td>...</td>\n",
       "      <td>...</td>\n",
       "      <td>...</td>\n",
       "      <td>...</td>\n",
       "      <td>...</td>\n",
       "      <td>...</td>\n",
       "      <td>...</td>\n",
       "      <td>...</td>\n",
       "      <td>...</td>\n",
       "      <td>...</td>\n",
       "      <td>...</td>\n",
       "    </tr>\n",
       "    <tr>\n",
       "      <th>45206</th>\n",
       "      <td>administrative_staff</td>\n",
       "      <td>50</td>\n",
       "      <td>high_school</td>\n",
       "      <td>divorced</td>\n",
       "      <td>mobile</td>\n",
       "      <td>May</td>\n",
       "      <td>6</td>\n",
       "      <td>114</td>\n",
       "      <td>1</td>\n",
       "      <td>unsuccessful</td>\n",
       "      <td>not_converted</td>\n",
       "    </tr>\n",
       "    <tr>\n",
       "      <th>45207</th>\n",
       "      <td>independent_worker</td>\n",
       "      <td>49</td>\n",
       "      <td>college</td>\n",
       "      <td>married</td>\n",
       "      <td>unidentified</td>\n",
       "      <td>May</td>\n",
       "      <td>13</td>\n",
       "      <td>98</td>\n",
       "      <td>1</td>\n",
       "      <td>unidentified</td>\n",
       "      <td>not_converted</td>\n",
       "    </tr>\n",
       "    <tr>\n",
       "      <th>45208</th>\n",
       "      <td>executive</td>\n",
       "      <td>30</td>\n",
       "      <td>college</td>\n",
       "      <td>married</td>\n",
       "      <td>mobile</td>\n",
       "      <td>June</td>\n",
       "      <td>12</td>\n",
       "      <td>175</td>\n",
       "      <td>2</td>\n",
       "      <td>other_outcome</td>\n",
       "      <td>not_converted</td>\n",
       "    </tr>\n",
       "    <tr>\n",
       "      <th>45209</th>\n",
       "      <td>retired_worker</td>\n",
       "      <td>59</td>\n",
       "      <td>elementary_school</td>\n",
       "      <td>married</td>\n",
       "      <td>landline</td>\n",
       "      <td>July</td>\n",
       "      <td>15</td>\n",
       "      <td>41</td>\n",
       "      <td>5</td>\n",
       "      <td>unidentified</td>\n",
       "      <td>not_converted</td>\n",
       "    </tr>\n",
       "    <tr>\n",
       "      <th>45210</th>\n",
       "      <td>technical_specialist</td>\n",
       "      <td>34</td>\n",
       "      <td>college</td>\n",
       "      <td>divorced</td>\n",
       "      <td>unidentified</td>\n",
       "      <td>May</td>\n",
       "      <td>29</td>\n",
       "      <td>578</td>\n",
       "      <td>3</td>\n",
       "      <td>unidentified</td>\n",
       "      <td>not_converted</td>\n",
       "    </tr>\n",
       "  </tbody>\n",
       "</table>\n",
       "<p>45211 rows × 11 columns</p>\n",
       "</div>"
      ],
      "text/plain": [
       "                 occupation  age    education_level marital_status  \\\n",
       "0      administrative_staff   28        high_school        married   \n",
       "1      administrative_staff   58       unidentified        married   \n",
       "2                   jobless   40        high_school       divorced   \n",
       "3            retired_worker   63        high_school        married   \n",
       "4            business_owner   43            college        married   \n",
       "...                     ...  ...                ...            ...   \n",
       "45206  administrative_staff   50        high_school       divorced   \n",
       "45207    independent_worker   49            college        married   \n",
       "45208             executive   30            college        married   \n",
       "45209        retired_worker   59  elementary_school        married   \n",
       "45210  technical_specialist   34            college       divorced   \n",
       "\n",
       "      communication_channel call_month  call_day  call_duration  \\\n",
       "0              unidentified  September         9              1   \n",
       "1              unidentified       June         5            307   \n",
       "2                    mobile   February         4            113   \n",
       "3                    mobile      April         7             72   \n",
       "4                  landline       July        29            184   \n",
       "...                     ...        ...       ...            ...   \n",
       "45206                mobile        May         6            114   \n",
       "45207          unidentified        May        13             98   \n",
       "45208                mobile       June        12            175   \n",
       "45209              landline       July        15             41   \n",
       "45210          unidentified        May        29            578   \n",
       "\n",
       "       call_frequency previous_campaign_outcome conversion_status  \n",
       "0                   1                successful     not_converted  \n",
       "1                   2              unidentified     not_converted  \n",
       "2                   1              unidentified     not_converted  \n",
       "3                   5              unidentified     not_converted  \n",
       "4                   4              unidentified     not_converted  \n",
       "...               ...                       ...               ...  \n",
       "45206               1              unsuccessful     not_converted  \n",
       "45207               1              unidentified     not_converted  \n",
       "45208               2             other_outcome     not_converted  \n",
       "45209               5              unidentified     not_converted  \n",
       "45210               3              unidentified     not_converted  \n",
       "\n",
       "[45211 rows x 11 columns]"
      ]
     },
     "execution_count": 3,
     "metadata": {},
     "output_type": "execute_result"
    }
   ],
   "source": [
    "df"
   ]
  },
  {
   "cell_type": "markdown",
   "metadata": {},
   "source": [
    "# Dataframe Observation"
   ]
  },
  {
   "cell_type": "markdown",
   "metadata": {},
   "source": [
    "\n",
    "Dependent - conversion_status\n",
    "Independent - occupation, age,\teducation_level,\tmarital_status,\tcommunication_channel,\tcall_month,\tcall_day,\tcall_duration,\tcall_frequency,\tprevious_campaign_outcome\n",
    "\n",
    "continuous_columns = [\"call_duration\", \"call_frequency\"]\n",
    "category_columns = [\"occupation\", \"age\", \"education_level\", \"marital_status\", \"communication_channel\",\n",
    "                    \"call_month\", \"call_day\", \"previous_campaign_outcome\", \"conversion_status\"]\n",
    "\n",
    "# Supervised Classification"
   ]
  },
  {
   "cell_type": "markdown",
   "metadata": {},
   "source": [
    "# Data Cleaning"
   ]
  },
  {
   "cell_type": "code",
   "execution_count": 4,
   "metadata": {},
   "outputs": [
    {
     "name": "stdout",
     "output_type": "stream",
     "text": [
      "<class 'pandas.core.frame.DataFrame'>\n",
      "RangeIndex: 45211 entries, 0 to 45210\n",
      "Data columns (total 11 columns):\n",
      " #   Column                     Non-Null Count  Dtype \n",
      "---  ------                     --------------  ----- \n",
      " 0   occupation                 45211 non-null  object\n",
      " 1   age                        45211 non-null  int64 \n",
      " 2   education_level            45211 non-null  object\n",
      " 3   marital_status             45211 non-null  object\n",
      " 4   communication_channel      45211 non-null  object\n",
      " 5   call_month                 45211 non-null  object\n",
      " 6   call_day                   45211 non-null  int64 \n",
      " 7   call_duration              45211 non-null  int64 \n",
      " 8   call_frequency             45211 non-null  int64 \n",
      " 9   previous_campaign_outcome  45211 non-null  object\n",
      " 10  conversion_status          45211 non-null  object\n",
      "dtypes: int64(4), object(7)\n",
      "memory usage: 3.8+ MB\n"
     ]
    }
   ],
   "source": [
    "df.info()"
   ]
  },
  {
   "cell_type": "code",
   "execution_count": 5,
   "metadata": {},
   "outputs": [],
   "source": [
    "continuous_columns = [\"call_duration\", \"call_frequency\"]\n",
    "category_columns = [\"occupation\", \"age\", \"education_level\", \"marital_status\", \"communication_channel\",\n",
    "                    \"call_month\", \"call_day\", \"previous_campaign_outcome\", \"conversion_status\"]"
   ]
  },
  {
   "cell_type": "code",
   "execution_count": 6,
   "metadata": {},
   "outputs": [
    {
     "data": {
      "text/plain": [
       "occupation                   0\n",
       "age                          0\n",
       "education_level              0\n",
       "marital_status               0\n",
       "communication_channel        0\n",
       "call_month                   0\n",
       "call_day                     0\n",
       "call_duration                0\n",
       "call_frequency               0\n",
       "previous_campaign_outcome    0\n",
       "conversion_status            0\n",
       "dtype: int64"
      ]
     },
     "execution_count": 6,
     "metadata": {},
     "output_type": "execute_result"
    }
   ],
   "source": [
    "df.isnull().sum()"
   ]
  },
  {
   "cell_type": "code",
   "execution_count": 7,
   "metadata": {},
   "outputs": [
    {
     "data": {
      "text/plain": [
       "6"
      ]
     },
     "execution_count": 7,
     "metadata": {},
     "output_type": "execute_result"
    }
   ],
   "source": [
    "df.duplicated().sum()"
   ]
  },
  {
   "cell_type": "code",
   "execution_count": 8,
   "metadata": {},
   "outputs": [
    {
     "data": {
      "text/html": [
       "<div>\n",
       "<style scoped>\n",
       "    .dataframe tbody tr th:only-of-type {\n",
       "        vertical-align: middle;\n",
       "    }\n",
       "\n",
       "    .dataframe tbody tr th {\n",
       "        vertical-align: top;\n",
       "    }\n",
       "\n",
       "    .dataframe thead th {\n",
       "        text-align: right;\n",
       "    }\n",
       "</style>\n",
       "<table border=\"1\" class=\"dataframe\">\n",
       "  <thead>\n",
       "    <tr style=\"text-align: right;\">\n",
       "      <th></th>\n",
       "      <th>occupation</th>\n",
       "      <th>age</th>\n",
       "      <th>education_level</th>\n",
       "      <th>marital_status</th>\n",
       "      <th>communication_channel</th>\n",
       "      <th>call_month</th>\n",
       "      <th>call_day</th>\n",
       "      <th>call_duration</th>\n",
       "      <th>call_frequency</th>\n",
       "      <th>previous_campaign_outcome</th>\n",
       "      <th>conversion_status</th>\n",
       "    </tr>\n",
       "  </thead>\n",
       "  <tbody>\n",
       "    <tr>\n",
       "      <th>0</th>\n",
       "      <td>administrative_staff</td>\n",
       "      <td>28</td>\n",
       "      <td>high_school</td>\n",
       "      <td>married</td>\n",
       "      <td>unidentified</td>\n",
       "      <td>September</td>\n",
       "      <td>9</td>\n",
       "      <td>1</td>\n",
       "      <td>1</td>\n",
       "      <td>successful</td>\n",
       "      <td>not_converted</td>\n",
       "    </tr>\n",
       "    <tr>\n",
       "      <th>1</th>\n",
       "      <td>administrative_staff</td>\n",
       "      <td>58</td>\n",
       "      <td>unidentified</td>\n",
       "      <td>married</td>\n",
       "      <td>unidentified</td>\n",
       "      <td>June</td>\n",
       "      <td>5</td>\n",
       "      <td>307</td>\n",
       "      <td>2</td>\n",
       "      <td>unidentified</td>\n",
       "      <td>not_converted</td>\n",
       "    </tr>\n",
       "    <tr>\n",
       "      <th>2</th>\n",
       "      <td>jobless</td>\n",
       "      <td>40</td>\n",
       "      <td>high_school</td>\n",
       "      <td>divorced</td>\n",
       "      <td>mobile</td>\n",
       "      <td>February</td>\n",
       "      <td>4</td>\n",
       "      <td>113</td>\n",
       "      <td>1</td>\n",
       "      <td>unidentified</td>\n",
       "      <td>not_converted</td>\n",
       "    </tr>\n",
       "    <tr>\n",
       "      <th>3</th>\n",
       "      <td>retired_worker</td>\n",
       "      <td>63</td>\n",
       "      <td>high_school</td>\n",
       "      <td>married</td>\n",
       "      <td>mobile</td>\n",
       "      <td>April</td>\n",
       "      <td>7</td>\n",
       "      <td>72</td>\n",
       "      <td>5</td>\n",
       "      <td>unidentified</td>\n",
       "      <td>not_converted</td>\n",
       "    </tr>\n",
       "    <tr>\n",
       "      <th>4</th>\n",
       "      <td>business_owner</td>\n",
       "      <td>43</td>\n",
       "      <td>college</td>\n",
       "      <td>married</td>\n",
       "      <td>landline</td>\n",
       "      <td>July</td>\n",
       "      <td>29</td>\n",
       "      <td>184</td>\n",
       "      <td>4</td>\n",
       "      <td>unidentified</td>\n",
       "      <td>not_converted</td>\n",
       "    </tr>\n",
       "    <tr>\n",
       "      <th>...</th>\n",
       "      <td>...</td>\n",
       "      <td>...</td>\n",
       "      <td>...</td>\n",
       "      <td>...</td>\n",
       "      <td>...</td>\n",
       "      <td>...</td>\n",
       "      <td>...</td>\n",
       "      <td>...</td>\n",
       "      <td>...</td>\n",
       "      <td>...</td>\n",
       "      <td>...</td>\n",
       "    </tr>\n",
       "    <tr>\n",
       "      <th>45206</th>\n",
       "      <td>administrative_staff</td>\n",
       "      <td>50</td>\n",
       "      <td>high_school</td>\n",
       "      <td>divorced</td>\n",
       "      <td>mobile</td>\n",
       "      <td>May</td>\n",
       "      <td>6</td>\n",
       "      <td>114</td>\n",
       "      <td>1</td>\n",
       "      <td>unsuccessful</td>\n",
       "      <td>not_converted</td>\n",
       "    </tr>\n",
       "    <tr>\n",
       "      <th>45207</th>\n",
       "      <td>independent_worker</td>\n",
       "      <td>49</td>\n",
       "      <td>college</td>\n",
       "      <td>married</td>\n",
       "      <td>unidentified</td>\n",
       "      <td>May</td>\n",
       "      <td>13</td>\n",
       "      <td>98</td>\n",
       "      <td>1</td>\n",
       "      <td>unidentified</td>\n",
       "      <td>not_converted</td>\n",
       "    </tr>\n",
       "    <tr>\n",
       "      <th>45208</th>\n",
       "      <td>executive</td>\n",
       "      <td>30</td>\n",
       "      <td>college</td>\n",
       "      <td>married</td>\n",
       "      <td>mobile</td>\n",
       "      <td>June</td>\n",
       "      <td>12</td>\n",
       "      <td>175</td>\n",
       "      <td>2</td>\n",
       "      <td>other_outcome</td>\n",
       "      <td>not_converted</td>\n",
       "    </tr>\n",
       "    <tr>\n",
       "      <th>45209</th>\n",
       "      <td>retired_worker</td>\n",
       "      <td>59</td>\n",
       "      <td>elementary_school</td>\n",
       "      <td>married</td>\n",
       "      <td>landline</td>\n",
       "      <td>July</td>\n",
       "      <td>15</td>\n",
       "      <td>41</td>\n",
       "      <td>5</td>\n",
       "      <td>unidentified</td>\n",
       "      <td>not_converted</td>\n",
       "    </tr>\n",
       "    <tr>\n",
       "      <th>45210</th>\n",
       "      <td>technical_specialist</td>\n",
       "      <td>34</td>\n",
       "      <td>college</td>\n",
       "      <td>divorced</td>\n",
       "      <td>unidentified</td>\n",
       "      <td>May</td>\n",
       "      <td>29</td>\n",
       "      <td>578</td>\n",
       "      <td>3</td>\n",
       "      <td>unidentified</td>\n",
       "      <td>not_converted</td>\n",
       "    </tr>\n",
       "  </tbody>\n",
       "</table>\n",
       "<p>45205 rows × 11 columns</p>\n",
       "</div>"
      ],
      "text/plain": [
       "                 occupation  age    education_level marital_status  \\\n",
       "0      administrative_staff   28        high_school        married   \n",
       "1      administrative_staff   58       unidentified        married   \n",
       "2                   jobless   40        high_school       divorced   \n",
       "3            retired_worker   63        high_school        married   \n",
       "4            business_owner   43            college        married   \n",
       "...                     ...  ...                ...            ...   \n",
       "45206  administrative_staff   50        high_school       divorced   \n",
       "45207    independent_worker   49            college        married   \n",
       "45208             executive   30            college        married   \n",
       "45209        retired_worker   59  elementary_school        married   \n",
       "45210  technical_specialist   34            college       divorced   \n",
       "\n",
       "      communication_channel call_month  call_day  call_duration  \\\n",
       "0              unidentified  September         9              1   \n",
       "1              unidentified       June         5            307   \n",
       "2                    mobile   February         4            113   \n",
       "3                    mobile      April         7             72   \n",
       "4                  landline       July        29            184   \n",
       "...                     ...        ...       ...            ...   \n",
       "45206                mobile        May         6            114   \n",
       "45207          unidentified        May        13             98   \n",
       "45208                mobile       June        12            175   \n",
       "45209              landline       July        15             41   \n",
       "45210          unidentified        May        29            578   \n",
       "\n",
       "       call_frequency previous_campaign_outcome conversion_status  \n",
       "0                   1                successful     not_converted  \n",
       "1                   2              unidentified     not_converted  \n",
       "2                   1              unidentified     not_converted  \n",
       "3                   5              unidentified     not_converted  \n",
       "4                   4              unidentified     not_converted  \n",
       "...               ...                       ...               ...  \n",
       "45206               1              unsuccessful     not_converted  \n",
       "45207               1              unidentified     not_converted  \n",
       "45208               2             other_outcome     not_converted  \n",
       "45209               5              unidentified     not_converted  \n",
       "45210               3              unidentified     not_converted  \n",
       "\n",
       "[45205 rows x 11 columns]"
      ]
     },
     "execution_count": 8,
     "metadata": {},
     "output_type": "execute_result"
    }
   ],
   "source": [
    "df.drop_duplicates()"
   ]
  },
  {
   "cell_type": "markdown",
   "metadata": {},
   "source": [
    "# Statistical Analysis/ Hypothesis Testin\n",
    "\n",
    "Continuous - Central Limit Theorem, 1-Tailed Test (one-sample t-test)\n",
    "\n",
    "Continuous vs. Continuous - Correlation, 2-Tailed Test (two-sample t-test)\n",
    "\n",
    "Continuous vs. Categorical - ANOVA (Analysis of Variance)\n",
    "\n",
    "Categorical vs. Categorical - Chi-Square Test"
   ]
  },
  {
   "cell_type": "code",
   "execution_count": 10,
   "metadata": {},
   "outputs": [],
   "source": [
    "def hypothesisTesting(continuous_columns=[], category_columns=[], sampling_rate=0.20, sampling_frac=0.05):\n",
    "    # Central Limit Theorem\n",
    "    oneContinuousColumn_result = {}\n",
    "    hypothesis_df = pd.DataFrame(columns=df.columns, index=df.columns)\n",
    "    \n",
    "    if continuous_columns:\n",
    "        samplesize = int(sampling_rate * len(df[continuous_columns[0]]))\n",
    "        for column in continuous_columns:\n",
    "            population = df[column].values\n",
    "            population_mean = population.mean()\n",
    "            sample_mean = []\n",
    "            for i in range(40):\n",
    "                sample = np.random.choice(population, samplesize)\n",
    "                sample_mean.append(sample.mean())\n",
    "            oneContinuousColumn_result[column] = {\n",
    "                \"Population Mean\": population_mean,\n",
    "                \"Sample Means\": {np.mean(sample_mean)}\n",
    "            }\n",
    "\n",
    "    # 1-Tailed Test\n",
    "    if continuous_columns:\n",
    "        samplesize = int(sampling_rate * len(df[continuous_columns[0]]))\n",
    "        for column in continuous_columns:\n",
    "            H0_accepted = 0\n",
    "            H0_rejected = 0\n",
    "            for i in range(samplesize):\n",
    "                sample = df[column].sample(frac=sampling_frac)\n",
    "                t_test, p_value = stats.ttest_1samp(sample, df[column].mean())\n",
    "                if p_value > 0.5:\n",
    "                    H0_accepted += 1\n",
    "                else:\n",
    "                    H0_rejected += 1\n",
    "\n",
    "            if H0_accepted > H0_rejected:\n",
    "                oneContinuousColumn_result[column].update({\n",
    "                    \"H0_accepted\": H0_accepted,\n",
    "                    \"H0_rejected\": H0_rejected,\n",
    "                    \"Conclusion\": \"H0 is accepted, Ha is rejected, There is no significant effect\"\n",
    "                })\n",
    "                hypothesis_df.loc[column, column] = \"There is a relationship\"\n",
    "            else:\n",
    "                oneContinuousColumn_result[column].update({\n",
    "                    \"H0_accepted\": H0_accepted,\n",
    "                    \"H0_rejected\": H0_rejected,\n",
    "                    \"Conclusion\": \"H0 is rejected, Ha is accepted, There is a significant effect\"\n",
    "                })\n",
    "                hypothesis_df.loc[column, column] = \"There is no relationship\"\n",
    "\n",
    "    # 2-Tailed Test\n",
    "    for i in range(len(continuous_columns) - 1):\n",
    "        column_1 = continuous_columns[i]\n",
    "        for column_2 in continuous_columns[i + 1:]:\n",
    "            H0_accepted = 0\n",
    "            H0_rejected = 0\n",
    "            for i in range(20):\n",
    "                sample1 = df[column_1].sample(frac=sampling_frac)\n",
    "                sample2 = df[column_2].sample(frac=sampling_frac)\n",
    "                t_test, p_value = stats.ttest_ind(sample1, sample2)\n",
    "                if p_value > 0.5:\n",
    "                    H0_accepted += 1\n",
    "                else:\n",
    "                    H0_rejected += 1\n",
    "\n",
    "            if H0_accepted > H0_rejected:\n",
    "                hypothesis_df.loc[column_1, column_2] = \"There is a relationship\"\n",
    "                hypothesis_df.loc[column_2, column_1] = \"There is a relationship\"\n",
    "            else:\n",
    "                hypothesis_df.loc[column_1, column_2] = \"There is no relationship\"\n",
    "                hypothesis_df.loc[column_2, column_1] = \"There is no relationship\"\n",
    "\n",
    "    # Chi-Square Test\n",
    "    if category_columns:\n",
    "        for i in range(len(category_columns) - 1):\n",
    "            column_1 = category_columns[i]\n",
    "            for column_2 in category_columns[i + 1:]:\n",
    "                data = pd.crosstab(df[column_1], df[column_2])\n",
    "                observed_values = data.values\n",
    "                chi2_stat, p_value, _, _ = stats.chi2_contingency(observed_values)\n",
    "\n",
    "                if p_value > 0.05:\n",
    "                    hypothesis_df.loc[column_1, column_2] = \"There is no relationship\"\n",
    "                    hypothesis_df.loc[column_2, column_1] = \"There is no relationship\"\n",
    "                else:\n",
    "                    hypothesis_df.loc[column_1, column_2] = \"There is a relationship\"\n",
    "                    hypothesis_df.loc[column_2, column_1] = \"There is a relationship\"\n",
    "\n",
    "    # ANOVA\n",
    "    if continuous_columns and category_columns:\n",
    "        for category_column in category_columns:\n",
    "            for continuous_column in continuous_columns:\n",
    "                group = df[category_column].unique()\n",
    "                data = {}\n",
    "                for i in group:\n",
    "                    data[i] = df[continuous_column][df[category_column] == i]\n",
    "\n",
    "                f_value, p_value = stats.f_oneway(*[data[i] for i in group])\n",
    "                if p_value > 0.05:\n",
    "                    hypothesis_df.loc[category_column, continuous_column] = \"There is a relationship\"\n",
    "                    hypothesis_df.loc[continuous_column, category_column] = \"There is a relationship\"\n",
    "                else:\n",
    "                    hypothesis_df.loc[category_column, continuous_column] = \"There is no relationship\"\n",
    "                    hypothesis_df.loc[continuous_column, category_column] = \"There is no relationship\"\n",
    "\n",
    "    return oneContinuousColumn_result, hypothesis_df"
   ]
  },
  {
   "cell_type": "code",
   "execution_count": 14,
   "metadata": {},
   "outputs": [
    {
     "data": {
      "text/html": [
       "<div>\n",
       "<style scoped>\n",
       "    .dataframe tbody tr th:only-of-type {\n",
       "        vertical-align: middle;\n",
       "    }\n",
       "\n",
       "    .dataframe tbody tr th {\n",
       "        vertical-align: top;\n",
       "    }\n",
       "\n",
       "    .dataframe thead th {\n",
       "        text-align: right;\n",
       "    }\n",
       "</style>\n",
       "<table border=\"1\" class=\"dataframe\">\n",
       "  <thead>\n",
       "    <tr style=\"text-align: right;\">\n",
       "      <th></th>\n",
       "      <th>age</th>\n",
       "      <th>call_day</th>\n",
       "      <th>call_duration</th>\n",
       "      <th>call_frequency</th>\n",
       "    </tr>\n",
       "  </thead>\n",
       "  <tbody>\n",
       "    <tr>\n",
       "      <th>age</th>\n",
       "      <td>1.000000</td>\n",
       "      <td>-0.009120</td>\n",
       "      <td>-0.004648</td>\n",
       "      <td>0.00476</td>\n",
       "    </tr>\n",
       "    <tr>\n",
       "      <th>call_day</th>\n",
       "      <td>-0.009120</td>\n",
       "      <td>1.000000</td>\n",
       "      <td>-0.030206</td>\n",
       "      <td>0.16249</td>\n",
       "    </tr>\n",
       "    <tr>\n",
       "      <th>call_duration</th>\n",
       "      <td>-0.004648</td>\n",
       "      <td>-0.030206</td>\n",
       "      <td>1.000000</td>\n",
       "      <td>-0.08457</td>\n",
       "    </tr>\n",
       "    <tr>\n",
       "      <th>call_frequency</th>\n",
       "      <td>0.004760</td>\n",
       "      <td>0.162490</td>\n",
       "      <td>-0.084570</td>\n",
       "      <td>1.00000</td>\n",
       "    </tr>\n",
       "  </tbody>\n",
       "</table>\n",
       "</div>"
      ],
      "text/plain": [
       "                     age  call_day  call_duration  call_frequency\n",
       "age             1.000000 -0.009120      -0.004648         0.00476\n",
       "call_day       -0.009120  1.000000      -0.030206         0.16249\n",
       "call_duration  -0.004648 -0.030206       1.000000        -0.08457\n",
       "call_frequency  0.004760  0.162490      -0.084570         1.00000"
      ]
     },
     "execution_count": 14,
     "metadata": {},
     "output_type": "execute_result"
    }
   ],
   "source": [
    "import pandas as pd\n",
    "\n",
    "# Assuming df is your DataFrame\n",
    "\n",
    "# Drop non-numeric columns or encode them appropriately\n",
    "numeric_df = df.select_dtypes(include=['number'])\n",
    "\n",
    "# Calculate correlation matrix\n",
    "correlation_matrix = numeric_df.corr()\n",
    "correlation_matrix"
   ]
  },
  {
   "cell_type": "code",
   "execution_count": 15,
   "metadata": {},
   "outputs": [],
   "source": [
    "ContinesColumn_result, comperativeColumn_result = hypothesisTesting(continuous_columns , category_columns)"
   ]
  },
  {
   "cell_type": "code",
   "execution_count": 16,
   "metadata": {},
   "outputs": [
    {
     "data": {
      "text/html": [
       "<div>\n",
       "<style scoped>\n",
       "    .dataframe tbody tr th:only-of-type {\n",
       "        vertical-align: middle;\n",
       "    }\n",
       "\n",
       "    .dataframe tbody tr th {\n",
       "        vertical-align: top;\n",
       "    }\n",
       "\n",
       "    .dataframe thead th {\n",
       "        text-align: right;\n",
       "    }\n",
       "</style>\n",
       "<table border=\"1\" class=\"dataframe\">\n",
       "  <thead>\n",
       "    <tr style=\"text-align: right;\">\n",
       "      <th></th>\n",
       "      <th>call_duration</th>\n",
       "      <th>call_frequency</th>\n",
       "    </tr>\n",
       "  </thead>\n",
       "  <tbody>\n",
       "    <tr>\n",
       "      <th>Population Mean</th>\n",
       "      <td>258.16308</td>\n",
       "      <td>2.763841</td>\n",
       "    </tr>\n",
       "    <tr>\n",
       "      <th>Sample Means</th>\n",
       "      <td>{258.3358714886087}</td>\n",
       "      <td>{2.7553168546781683}</td>\n",
       "    </tr>\n",
       "    <tr>\n",
       "      <th>H0_accepted</th>\n",
       "      <td>4528</td>\n",
       "      <td>4647</td>\n",
       "    </tr>\n",
       "    <tr>\n",
       "      <th>H0_rejected</th>\n",
       "      <td>4514</td>\n",
       "      <td>4395</td>\n",
       "    </tr>\n",
       "    <tr>\n",
       "      <th>Conclusion</th>\n",
       "      <td>H0 is accepted, Ha is rejected, There is no si...</td>\n",
       "      <td>H0 is accepted, Ha is rejected, There is no si...</td>\n",
       "    </tr>\n",
       "  </tbody>\n",
       "</table>\n",
       "</div>"
      ],
      "text/plain": [
       "                                                     call_duration  \\\n",
       "Population Mean                                          258.16308   \n",
       "Sample Means                                   {258.3358714886087}   \n",
       "H0_accepted                                                   4528   \n",
       "H0_rejected                                                   4514   \n",
       "Conclusion       H0 is accepted, Ha is rejected, There is no si...   \n",
       "\n",
       "                                                    call_frequency  \n",
       "Population Mean                                           2.763841  \n",
       "Sample Means                                  {2.7553168546781683}  \n",
       "H0_accepted                                                   4647  \n",
       "H0_rejected                                                   4395  \n",
       "Conclusion       H0 is accepted, Ha is rejected, There is no si...  "
      ]
     },
     "execution_count": 16,
     "metadata": {},
     "output_type": "execute_result"
    }
   ],
   "source": [
    "\n",
    "ContinesColumn_result_df = pd.DataFrame(ContinesColumn_result)\n",
    "ContinesColumn_result_df"
   ]
  },
  {
   "cell_type": "code",
   "execution_count": 17,
   "metadata": {},
   "outputs": [
    {
     "data": {
      "text/html": [
       "<div>\n",
       "<style scoped>\n",
       "    .dataframe tbody tr th:only-of-type {\n",
       "        vertical-align: middle;\n",
       "    }\n",
       "\n",
       "    .dataframe tbody tr th {\n",
       "        vertical-align: top;\n",
       "    }\n",
       "\n",
       "    .dataframe thead th {\n",
       "        text-align: right;\n",
       "    }\n",
       "</style>\n",
       "<table border=\"1\" class=\"dataframe\">\n",
       "  <thead>\n",
       "    <tr style=\"text-align: right;\">\n",
       "      <th></th>\n",
       "      <th>occupation</th>\n",
       "      <th>age</th>\n",
       "      <th>education_level</th>\n",
       "      <th>marital_status</th>\n",
       "      <th>communication_channel</th>\n",
       "      <th>call_month</th>\n",
       "      <th>call_day</th>\n",
       "      <th>call_duration</th>\n",
       "      <th>call_frequency</th>\n",
       "      <th>previous_campaign_outcome</th>\n",
       "      <th>conversion_status</th>\n",
       "    </tr>\n",
       "  </thead>\n",
       "  <tbody>\n",
       "    <tr>\n",
       "      <th>occupation</th>\n",
       "      <td>NaN</td>\n",
       "      <td>There is a relationship</td>\n",
       "      <td>There is a relationship</td>\n",
       "      <td>There is a relationship</td>\n",
       "      <td>There is a relationship</td>\n",
       "      <td>There is a relationship</td>\n",
       "      <td>There is a relationship</td>\n",
       "      <td>There is no relationship</td>\n",
       "      <td>There is no relationship</td>\n",
       "      <td>There is a relationship</td>\n",
       "      <td>There is a relationship</td>\n",
       "    </tr>\n",
       "    <tr>\n",
       "      <th>age</th>\n",
       "      <td>There is a relationship</td>\n",
       "      <td>NaN</td>\n",
       "      <td>There is a relationship</td>\n",
       "      <td>There is a relationship</td>\n",
       "      <td>There is a relationship</td>\n",
       "      <td>There is a relationship</td>\n",
       "      <td>There is a relationship</td>\n",
       "      <td>There is no relationship</td>\n",
       "      <td>There is no relationship</td>\n",
       "      <td>There is a relationship</td>\n",
       "      <td>There is a relationship</td>\n",
       "    </tr>\n",
       "    <tr>\n",
       "      <th>education_level</th>\n",
       "      <td>There is a relationship</td>\n",
       "      <td>There is a relationship</td>\n",
       "      <td>NaN</td>\n",
       "      <td>There is a relationship</td>\n",
       "      <td>There is a relationship</td>\n",
       "      <td>There is a relationship</td>\n",
       "      <td>There is a relationship</td>\n",
       "      <td>There is a relationship</td>\n",
       "      <td>There is no relationship</td>\n",
       "      <td>There is a relationship</td>\n",
       "      <td>There is a relationship</td>\n",
       "    </tr>\n",
       "    <tr>\n",
       "      <th>marital_status</th>\n",
       "      <td>There is a relationship</td>\n",
       "      <td>There is a relationship</td>\n",
       "      <td>There is a relationship</td>\n",
       "      <td>NaN</td>\n",
       "      <td>There is a relationship</td>\n",
       "      <td>There is a relationship</td>\n",
       "      <td>There is a relationship</td>\n",
       "      <td>There is no relationship</td>\n",
       "      <td>There is no relationship</td>\n",
       "      <td>There is a relationship</td>\n",
       "      <td>There is a relationship</td>\n",
       "    </tr>\n",
       "    <tr>\n",
       "      <th>communication_channel</th>\n",
       "      <td>There is a relationship</td>\n",
       "      <td>There is a relationship</td>\n",
       "      <td>There is a relationship</td>\n",
       "      <td>There is a relationship</td>\n",
       "      <td>NaN</td>\n",
       "      <td>There is a relationship</td>\n",
       "      <td>There is a relationship</td>\n",
       "      <td>There is no relationship</td>\n",
       "      <td>There is no relationship</td>\n",
       "      <td>There is a relationship</td>\n",
       "      <td>There is a relationship</td>\n",
       "    </tr>\n",
       "    <tr>\n",
       "      <th>call_month</th>\n",
       "      <td>There is a relationship</td>\n",
       "      <td>There is a relationship</td>\n",
       "      <td>There is a relationship</td>\n",
       "      <td>There is a relationship</td>\n",
       "      <td>There is a relationship</td>\n",
       "      <td>NaN</td>\n",
       "      <td>There is a relationship</td>\n",
       "      <td>There is no relationship</td>\n",
       "      <td>There is no relationship</td>\n",
       "      <td>There is a relationship</td>\n",
       "      <td>There is a relationship</td>\n",
       "    </tr>\n",
       "    <tr>\n",
       "      <th>call_day</th>\n",
       "      <td>There is a relationship</td>\n",
       "      <td>There is a relationship</td>\n",
       "      <td>There is a relationship</td>\n",
       "      <td>There is a relationship</td>\n",
       "      <td>There is a relationship</td>\n",
       "      <td>There is a relationship</td>\n",
       "      <td>NaN</td>\n",
       "      <td>There is no relationship</td>\n",
       "      <td>There is no relationship</td>\n",
       "      <td>There is a relationship</td>\n",
       "      <td>There is a relationship</td>\n",
       "    </tr>\n",
       "    <tr>\n",
       "      <th>call_duration</th>\n",
       "      <td>There is no relationship</td>\n",
       "      <td>There is no relationship</td>\n",
       "      <td>There is a relationship</td>\n",
       "      <td>There is no relationship</td>\n",
       "      <td>There is no relationship</td>\n",
       "      <td>There is no relationship</td>\n",
       "      <td>There is no relationship</td>\n",
       "      <td>There is a relationship</td>\n",
       "      <td>There is no relationship</td>\n",
       "      <td>There is no relationship</td>\n",
       "      <td>There is no relationship</td>\n",
       "    </tr>\n",
       "    <tr>\n",
       "      <th>call_frequency</th>\n",
       "      <td>There is no relationship</td>\n",
       "      <td>There is no relationship</td>\n",
       "      <td>There is no relationship</td>\n",
       "      <td>There is no relationship</td>\n",
       "      <td>There is no relationship</td>\n",
       "      <td>There is no relationship</td>\n",
       "      <td>There is no relationship</td>\n",
       "      <td>There is no relationship</td>\n",
       "      <td>There is a relationship</td>\n",
       "      <td>There is no relationship</td>\n",
       "      <td>There is no relationship</td>\n",
       "    </tr>\n",
       "    <tr>\n",
       "      <th>previous_campaign_outcome</th>\n",
       "      <td>There is a relationship</td>\n",
       "      <td>There is a relationship</td>\n",
       "      <td>There is a relationship</td>\n",
       "      <td>There is a relationship</td>\n",
       "      <td>There is a relationship</td>\n",
       "      <td>There is a relationship</td>\n",
       "      <td>There is a relationship</td>\n",
       "      <td>There is no relationship</td>\n",
       "      <td>There is no relationship</td>\n",
       "      <td>NaN</td>\n",
       "      <td>There is a relationship</td>\n",
       "    </tr>\n",
       "    <tr>\n",
       "      <th>conversion_status</th>\n",
       "      <td>There is a relationship</td>\n",
       "      <td>There is a relationship</td>\n",
       "      <td>There is a relationship</td>\n",
       "      <td>There is a relationship</td>\n",
       "      <td>There is a relationship</td>\n",
       "      <td>There is a relationship</td>\n",
       "      <td>There is a relationship</td>\n",
       "      <td>There is no relationship</td>\n",
       "      <td>There is no relationship</td>\n",
       "      <td>There is a relationship</td>\n",
       "      <td>NaN</td>\n",
       "    </tr>\n",
       "  </tbody>\n",
       "</table>\n",
       "</div>"
      ],
      "text/plain": [
       "                                         occupation                       age  \\\n",
       "occupation                                      NaN   There is a relationship   \n",
       "age                         There is a relationship                       NaN   \n",
       "education_level             There is a relationship   There is a relationship   \n",
       "marital_status              There is a relationship   There is a relationship   \n",
       "communication_channel       There is a relationship   There is a relationship   \n",
       "call_month                  There is a relationship   There is a relationship   \n",
       "call_day                    There is a relationship   There is a relationship   \n",
       "call_duration              There is no relationship  There is no relationship   \n",
       "call_frequency             There is no relationship  There is no relationship   \n",
       "previous_campaign_outcome   There is a relationship   There is a relationship   \n",
       "conversion_status           There is a relationship   There is a relationship   \n",
       "\n",
       "                                    education_level            marital_status  \\\n",
       "occupation                  There is a relationship   There is a relationship   \n",
       "age                         There is a relationship   There is a relationship   \n",
       "education_level                                 NaN   There is a relationship   \n",
       "marital_status              There is a relationship                       NaN   \n",
       "communication_channel       There is a relationship   There is a relationship   \n",
       "call_month                  There is a relationship   There is a relationship   \n",
       "call_day                    There is a relationship   There is a relationship   \n",
       "call_duration               There is a relationship  There is no relationship   \n",
       "call_frequency             There is no relationship  There is no relationship   \n",
       "previous_campaign_outcome   There is a relationship   There is a relationship   \n",
       "conversion_status           There is a relationship   There is a relationship   \n",
       "\n",
       "                              communication_channel                call_month  \\\n",
       "occupation                  There is a relationship   There is a relationship   \n",
       "age                         There is a relationship   There is a relationship   \n",
       "education_level             There is a relationship   There is a relationship   \n",
       "marital_status              There is a relationship   There is a relationship   \n",
       "communication_channel                           NaN   There is a relationship   \n",
       "call_month                  There is a relationship                       NaN   \n",
       "call_day                    There is a relationship   There is a relationship   \n",
       "call_duration              There is no relationship  There is no relationship   \n",
       "call_frequency             There is no relationship  There is no relationship   \n",
       "previous_campaign_outcome   There is a relationship   There is a relationship   \n",
       "conversion_status           There is a relationship   There is a relationship   \n",
       "\n",
       "                                           call_day             call_duration  \\\n",
       "occupation                  There is a relationship  There is no relationship   \n",
       "age                         There is a relationship  There is no relationship   \n",
       "education_level             There is a relationship   There is a relationship   \n",
       "marital_status              There is a relationship  There is no relationship   \n",
       "communication_channel       There is a relationship  There is no relationship   \n",
       "call_month                  There is a relationship  There is no relationship   \n",
       "call_day                                        NaN  There is no relationship   \n",
       "call_duration              There is no relationship   There is a relationship   \n",
       "call_frequency             There is no relationship  There is no relationship   \n",
       "previous_campaign_outcome   There is a relationship  There is no relationship   \n",
       "conversion_status           There is a relationship  There is no relationship   \n",
       "\n",
       "                                     call_frequency previous_campaign_outcome  \\\n",
       "occupation                 There is no relationship   There is a relationship   \n",
       "age                        There is no relationship   There is a relationship   \n",
       "education_level            There is no relationship   There is a relationship   \n",
       "marital_status             There is no relationship   There is a relationship   \n",
       "communication_channel      There is no relationship   There is a relationship   \n",
       "call_month                 There is no relationship   There is a relationship   \n",
       "call_day                   There is no relationship   There is a relationship   \n",
       "call_duration              There is no relationship  There is no relationship   \n",
       "call_frequency              There is a relationship  There is no relationship   \n",
       "previous_campaign_outcome  There is no relationship                       NaN   \n",
       "conversion_status          There is no relationship   There is a relationship   \n",
       "\n",
       "                                  conversion_status  \n",
       "occupation                  There is a relationship  \n",
       "age                         There is a relationship  \n",
       "education_level             There is a relationship  \n",
       "marital_status              There is a relationship  \n",
       "communication_channel       There is a relationship  \n",
       "call_month                  There is a relationship  \n",
       "call_day                    There is a relationship  \n",
       "call_duration              There is no relationship  \n",
       "call_frequency             There is no relationship  \n",
       "previous_campaign_outcome   There is a relationship  \n",
       "conversion_status                               NaN  "
      ]
     },
     "execution_count": 17,
     "metadata": {},
     "output_type": "execute_result"
    }
   ],
   "source": [
    "\n",
    "comperativeColumn_result"
   ]
  },
  {
   "cell_type": "code",
   "execution_count": 18,
   "metadata": {},
   "outputs": [
    {
     "data": {
      "image/png": "[encoded data removed]",
      "text/plain": [
       "<Figure size 640x480 with 2 Axes>"
      ]
     },
     "metadata": {},
     "output_type": "display_data"
    }
   ],
   "source": [
    "# Create a heatmap\n",
    "sns.heatmap(comperativeColumn_result == 'There is a relationship', annot=True, cmap='coolwarm')\n",
    "plt.title('Hypothesis Test Results')\n",
    "plt.show()"
   ]
  },
  {
   "cell_type": "code",
   "execution_count": 21,
   "metadata": {},
   "outputs": [
    {
     "name": "stderr",
     "output_type": "stream",
     "text": [
      "C:\\Users\\Saravanan\\AppData\\Local\\Temp\\ipykernel_11660\\1214076742.py:3: FutureWarning: Downcasting behavior in `replace` is deprecated and will be removed in a future version. To retain the old behavior, explicitly call `result.infer_objects(copy=False)`. To opt-in to the future behavior, set `pd.set_option('future.no_silent_downcasting', True)`\n",
      "  comperativeColumn_result.replace({'There is a relationship': 1, 'There is no relationship': 0}, inplace=True)\n"
     ]
    },
    {
     "data": {
      "application/vnd.plotly.v1+json": {
       "config": {
        "plotlyServerURL": "https://plot.ly"
       },
       "data": [
        {
         "coloraxis": "coloraxis",
         "hovertemplate": "x: %{x}<br>y: %{y}<br>color: %{z}<extra></extra>",
         "name": "0",
         "type": "heatmap",
         "x": [
          "occupation",
          "age",
          "education_level",
          "marital_status",
          "communication_channel",
          "call_month",
          "call_day",
          "call_duration",
          "call_frequency",
          "previous_campaign_outcome",
          "conversion_status"
         ],
         "xaxis": "x",
         "y": [
          "occupation",
          "age",
          "education_level",
          "marital_status",
          "communication_channel",
          "call_month",
          "call_day",
          "call_duration",
          "call_frequency",
          "previous_campaign_outcome",
          "conversion_status"
         ],
         "yaxis": "y",
         "z": [
          [
           3,
           1,
           1,
           1,
           1,
           1,
           1,
           0,
           0,
           1,
           1
          ],
          [
           1,
           3,
           1,
           1,
           1,
           1,
           1,
           0,
           0,
           1,
           1
          ],
          [
           1,
           1,
           3,
           1,
           1,
           1,
           1,
           1,
           0,
           1,
           1
          ],
          [
           1,
           1,
           1,
           3,
           1,
           1,
           1,
           0,
           0,
           1,
           1
          ],
          [
           1,
           1,
           1,
           1,
           3,
           1,
           1,
           0,
           0,
           1,
           1
          ],
          [
           1,
           1,
           1,
           1,
           1,
           3,
           1,
           0,
           0,
           1,
           1
          ],
          [
           1,
           1,
           1,
           1,
           1,
           1,
           3,
           0,
           0,
           1,
           1
          ],
          [
           0,
           0,
           1,
           0,
           0,
           0,
           0,
           1,
           0,
           0,
           0
          ],
          [
           0,
           0,
           0,
           0,
           0,
           0,
           0,
           0,
           1,
           0,
           0
          ],
          [
           1,
           1,
           1,
           1,
           1,
           1,
           1,
           0,
           0,
           3,
           1
          ],
          [
           1,
           1,
           1,
           1,
           1,
           1,
           1,
           0,
           0,
           1,
           3
          ]
         ]
        }
       ],
       "layout": {
        "coloraxis": {
         "colorscale": [
          [
           0,
           "#440154"
          ],
          [
           0.1111111111111111,
           "#482878"
          ],
          [
           0.2222222222222222,
           "#3e4989"
          ],
          [
           0.3333333333333333,
           "#31688e"
          ],
          [
           0.4444444444444444,
           "#26828e"
          ],
          [
           0.5555555555555556,
           "#1f9e89"
          ],
          [
           0.6666666666666666,
           "#35b779"
          ],
          [
           0.7777777777777778,
           "#6ece58"
          ],
          [
           0.8888888888888888,
           "#b5de2b"
          ],
          [
           1,
           "#fde725"
          ]
         ]
        },
        "template": {
         "data": {
          "bar": [
           {
            "error_x": {
             "color": "#2a3f5f"
            },
            "error_y": {
             "color": "#2a3f5f"
            },
            "marker": {
             "line": {
              "color": "#E5ECF6",
              "width": 0.5
             },
             "pattern": {
              "fillmode": "overlay",
              "size": 10,
              "solidity": 0.2
             }
            },
            "type": "bar"
           }
          ],
          "barpolar": [
           {
            "marker": {
             "line": {
              "color": "#E5ECF6",
              "width": 0.5
             },
             "pattern": {
              "fillmode": "overlay",
              "size": 10,
              "solidity": 0.2
             }
            },
            "type": "barpolar"
           }
          ],
          "carpet": [
           {
            "aaxis": {
             "endlinecolor": "#2a3f5f",
             "gridcolor": "white",
             "linecolor": "white",
             "minorgridcolor": "white",
             "startlinecolor": "#2a3f5f"
            },
            "baxis": {
             "endlinecolor": "#2a3f5f",
             "gridcolor": "white",
             "linecolor": "white",
             "minorgridcolor": "white",
             "startlinecolor": "#2a3f5f"
            },
            "type": "carpet"
           }
          ],
          "choropleth": [
           {
            "colorbar": {
             "outlinewidth": 0,
             "ticks": ""
            },
            "type": "choropleth"
           }
          ],
          "contour": [
           {
            "colorbar": {
             "outlinewidth": 0,
             "ticks": ""
            },
            "colorscale": [
             [
              0,
              "#0d0887"
             ],
             [
              0.1111111111111111,
              "#46039f"
             ],
             [
              0.2222222222222222,
              "#7201a8"
             ],
             [
              0.3333333333333333,
              "#9c179e"
             ],
             [
              0.4444444444444444,
              "#bd3786"
             ],
             [
              0.5555555555555556,
              "#d8576b"
             ],
             [
              0.6666666666666666,
              "#ed7953"
             ],
             [
              0.7777777777777778,
              "#fb9f3a"
             ],
             [
              0.8888888888888888,
              "#fdca26"
             ],
             [
              1,
              "#f0f921"
             ]
            ],
            "type": "contour"
           }
          ],
          "contourcarpet": [
           {
            "colorbar": {
             "outlinewidth": 0,
             "ticks": ""
            },
            "type": "contourcarpet"
           }
          ],
          "heatmap": [
           {
            "colorbar": {
             "outlinewidth": 0,
             "ticks": ""
            },
            "colorscale": [
             [
              0,
              "#0d0887"
             ],
             [
              0.1111111111111111,
              "#46039f"
             ],
             [
              0.2222222222222222,
              "#7201a8"
             ],
             [
              0.3333333333333333,
              "#9c179e"
             ],
             [
              0.4444444444444444,
              "#bd3786"
             ],
             [
              0.5555555555555556,
              "#d8576b"
             ],
             [
              0.6666666666666666,
              "#ed7953"
             ],
             [
              0.7777777777777778,
              "#fb9f3a"
             ],
             [
              0.8888888888888888,
              "#fdca26"
             ],
             [
              1,
              "#f0f921"
             ]
            ],
            "type": "heatmap"
           }
          ],
          "heatmapgl": [
           {
            "colorbar": {
             "outlinewidth": 0,
             "ticks": ""
            },
            "colorscale": [
             [
              0,
              "#0d0887"
             ],
             [
              0.1111111111111111,
              "#46039f"
             ],
             [
              0.2222222222222222,
              "#7201a8"
             ],
             [
              0.3333333333333333,
              "#9c179e"
             ],
             [
              0.4444444444444444,
              "#bd3786"
             ],
             [
              0.5555555555555556,
              "#d8576b"
             ],
             [
              0.6666666666666666,
              "#ed7953"
             ],
             [
              0.7777777777777778,
              "#fb9f3a"
             ],
             [
              0.8888888888888888,
              "#fdca26"
             ],
             [
              1,
              "#f0f921"
             ]
            ],
            "type": "heatmapgl"
           }
          ],
          "histogram": [
           {
            "marker": {
             "pattern": {
              "fillmode": "overlay",
              "size": 10,
              "solidity": 0.2
             }
            },
            "type": "histogram"
           }
          ],
          "histogram2d": [
           {
            "colorbar": {
             "outlinewidth": 0,
             "ticks": ""
            },
            "colorscale": [
             [
              0,
              "#0d0887"
             ],
             [
              0.1111111111111111,
              "#46039f"
             ],
             [
              0.2222222222222222,
              "#7201a8"
             ],
             [
              0.3333333333333333,
              "#9c179e"
             ],
             [
              0.4444444444444444,
              "#bd3786"
             ],
             [
              0.5555555555555556,
              "#d8576b"
             ],
             [
              0.6666666666666666,
              "#ed7953"
             ],
             [
              0.7777777777777778,
              "#fb9f3a"
             ],
             [
              0.8888888888888888,
              "#fdca26"
             ],
             [
              1,
              "#f0f921"
             ]
            ],
            "type": "histogram2d"
           }
          ],
          "histogram2dcontour": [
           {
            "colorbar": {
             "outlinewidth": 0,
             "ticks": ""
            },
            "colorscale": [
             [
              0,
              "#0d0887"
             ],
             [
              0.1111111111111111,
              "#46039f"
             ],
             [
              0.2222222222222222,
              "#7201a8"
             ],
             [
              0.3333333333333333,
              "#9c179e"
             ],
             [
              0.4444444444444444,
              "#bd3786"
             ],
             [
              0.5555555555555556,
              "#d8576b"
             ],
             [
              0.6666666666666666,
              "#ed7953"
             ],
             [
              0.7777777777777778,
              "#fb9f3a"
             ],
             [
              0.8888888888888888,
              "#fdca26"
             ],
             [
              1,
              "#f0f921"
             ]
            ],
            "type": "histogram2dcontour"
           }
          ],
          "mesh3d": [
           {
            "colorbar": {
             "outlinewidth": 0,
             "ticks": ""
            },
            "type": "mesh3d"
           }
          ],
          "parcoords": [
           {
            "line": {
             "colorbar": {
              "outlinewidth": 0,
              "ticks": ""
             }
            },
            "type": "parcoords"
           }
          ],
          "pie": [
           {
            "automargin": true,
            "type": "pie"
           }
          ],
          "scatter": [
           {
            "fillpattern": {
             "fillmode": "overlay",
             "size": 10,
             "solidity": 0.2
            },
            "type": "scatter"
           }
          ],
          "scatter3d": [
           {
            "line": {
             "colorbar": {
              "outlinewidth": 0,
              "ticks": ""
             }
            },
            "marker": {
             "colorbar": {
              "outlinewidth": 0,
              "ticks": ""
             }
            },
            "type": "scatter3d"
           }
          ],
          "scattercarpet": [
           {
            "marker": {
             "colorbar": {
              "outlinewidth": 0,
              "ticks": ""
             }
            },
            "type": "scattercarpet"
           }
          ],
          "scattergeo": [
           {
            "marker": {
             "colorbar": {
              "outlinewidth": 0,
              "ticks": ""
             }
            },
            "type": "scattergeo"
           }
          ],
          "scattergl": [
           {
            "marker": {
             "colorbar": {
              "outlinewidth": 0,
              "ticks": ""
             }
            },
            "type": "scattergl"
           }
          ],
          "scattermapbox": [
           {
            "marker": {
             "colorbar": {
              "outlinewidth": 0,
              "ticks": ""
             }
            },
            "type": "scattermapbox"
           }
          ],
          "scatterpolar": [
           {
            "marker": {
             "colorbar": {
              "outlinewidth": 0,
              "ticks": ""
             }
            },
            "type": "scatterpolar"
           }
          ],
          "scatterpolargl": [
           {
            "marker": {
             "colorbar": {
              "outlinewidth": 0,
              "ticks": ""
             }
            },
            "type": "scatterpolargl"
           }
          ],
          "scatterternary": [
           {
            "marker": {
             "colorbar": {
              "outlinewidth": 0,
              "ticks": ""
             }
            },
            "type": "scatterternary"
           }
          ],
          "surface": [
           {
            "colorbar": {
             "outlinewidth": 0,
             "ticks": ""
            },
            "colorscale": [
             [
              0,
              "#0d0887"
             ],
             [
              0.1111111111111111,
              "#46039f"
             ],
             [
              0.2222222222222222,
              "#7201a8"
             ],
             [
              0.3333333333333333,
              "#9c179e"
             ],
             [
              0.4444444444444444,
              "#bd3786"
             ],
             [
              0.5555555555555556,
              "#d8576b"
             ],
             [
              0.6666666666666666,
              "#ed7953"
             ],
             [
              0.7777777777777778,
              "#fb9f3a"
             ],
             [
              0.8888888888888888,
              "#fdca26"
             ],
             [
              1,
              "#f0f921"
             ]
            ],
            "type": "surface"
           }
          ],
          "table": [
           {
            "cells": {
             "fill": {
              "color": "#EBF0F8"
             },
             "line": {
              "color": "white"
             }
            },
            "header": {
             "fill": {
              "color": "#C8D4E3"
             },
             "line": {
              "color": "white"
             }
            },
            "type": "table"
           }
          ]
         },
         "layout": {
          "annotationdefaults": {
           "arrowcolor": "#2a3f5f",
           "arrowhead": 0,
           "arrowwidth": 1
          },
          "autotypenumbers": "strict",
          "coloraxis": {
           "colorbar": {
            "outlinewidth": 0,
            "ticks": ""
           }
          },
          "colorscale": {
           "diverging": [
            [
             0,
             "#8e0152"
            ],
            [
             0.1,
             "#c51b7d"
            ],
            [
             0.2,
             "#de77ae"
            ],
            [
             0.3,
             "#f1b6da"
            ],
            [
             0.4,
             "#fde0ef"
            ],
            [
             0.5,
             "#f7f7f7"
            ],
            [
             0.6,
             "#e6f5d0"
            ],
            [
             0.7,
             "#b8e186"
            ],
            [
             0.8,
             "#7fbc41"
            ],
            [
             0.9,
             "#4d9221"
            ],
            [
             1,
             "#276419"
            ]
           ],
           "sequential": [
            [
             0,
             "#0d0887"
            ],
            [
             0.1111111111111111,
             "#46039f"
            ],
            [
             0.2222222222222222,
             "#7201a8"
            ],
            [
             0.3333333333333333,
             "#9c179e"
            ],
            [
             0.4444444444444444,
             "#bd3786"
            ],
            [
             0.5555555555555556,
             "#d8576b"
            ],
            [
             0.6666666666666666,
             "#ed7953"
            ],
            [
             0.7777777777777778,
             "#fb9f3a"
            ],
            [
             0.8888888888888888,
             "#fdca26"
            ],
            [
             1,
             "#f0f921"
            ]
           ],
           "sequentialminus": [
            [
             0,
             "#0d0887"
            ],
            [
             0.1111111111111111,
             "#46039f"
            ],
            [
             0.2222222222222222,
             "#7201a8"
            ],
            [
             0.3333333333333333,
             "#9c179e"
            ],
            [
             0.4444444444444444,
             "#bd3786"
            ],
            [
             0.5555555555555556,
             "#d8576b"
            ],
            [
             0.6666666666666666,
             "#ed7953"
            ],
            [
             0.7777777777777778,
             "#fb9f3a"
            ],
            [
             0.8888888888888888,
             "#fdca26"
            ],
            [
             1,
             "#f0f921"
            ]
           ]
          },
          "colorway": [
           "#636efa",
           "#EF553B",
           "#00cc96",
           "#ab63fa",
           "#FFA15A",
           "#19d3f3",
           "#FF6692",
           "#B6E880",
           "#FF97FF",
           "#FECB52"
          ],
          "font": {
           "color": "#2a3f5f"
          },
          "geo": {
           "bgcolor": "white",
           "lakecolor": "white",
           "landcolor": "#E5ECF6",
           "showlakes": true,
           "showland": true,
           "subunitcolor": "white"
          },
          "hoverlabel": {
           "align": "left"
          },
          "hovermode": "closest",
          "mapbox": {
           "style": "light"
          },
          "paper_bgcolor": "white",
          "plot_bgcolor": "#E5ECF6",
          "polar": {
           "angularaxis": {
            "gridcolor": "white",
            "linecolor": "white",
            "ticks": ""
           },
           "bgcolor": "#E5ECF6",
           "radialaxis": {
            "gridcolor": "white",
            "linecolor": "white",
            "ticks": ""
           }
          },
          "scene": {
           "xaxis": {
            "backgroundcolor": "#E5ECF6",
            "gridcolor": "white",
            "gridwidth": 2,
            "linecolor": "white",
            "showbackground": true,
            "ticks": "",
            "zerolinecolor": "white"
           },
           "yaxis": {
            "backgroundcolor": "#E5ECF6",
            "gridcolor": "white",
            "gridwidth": 2,
            "linecolor": "white",
            "showbackground": true,
            "ticks": "",
            "zerolinecolor": "white"
           },
           "zaxis": {
            "backgroundcolor": "#E5ECF6",
            "gridcolor": "white",
            "gridwidth": 2,
            "linecolor": "white",
            "showbackground": true,
            "ticks": "",
            "zerolinecolor": "white"
           }
          },
          "shapedefaults": {
           "line": {
            "color": "#2a3f5f"
           }
          },
          "ternary": {
           "aaxis": {
            "gridcolor": "white",
            "linecolor": "white",
            "ticks": ""
           },
           "baxis": {
            "gridcolor": "white",
            "linecolor": "white",
            "ticks": ""
           },
           "bgcolor": "#E5ECF6",
           "caxis": {
            "gridcolor": "white",
            "linecolor": "white",
            "ticks": ""
           }
          },
          "title": {
           "x": 0.05
          },
          "xaxis": {
           "automargin": true,
           "gridcolor": "white",
           "linecolor": "white",
           "ticks": "",
           "title": {
            "standoff": 15
           },
           "zerolinecolor": "white",
           "zerolinewidth": 2
          },
          "yaxis": {
           "automargin": true,
           "gridcolor": "white",
           "linecolor": "white",
           "ticks": "",
           "title": {
            "standoff": 15
           },
           "zerolinecolor": "white",
           "zerolinewidth": 2
          }
         }
        },
        "title": {
         "text": "Correlation Matrix"
        },
        "xaxis": {
         "anchor": "y",
         "constrain": "domain",
         "domain": [
          0,
          1
         ],
         "scaleanchor": "y"
        },
        "yaxis": {
         "anchor": "x",
         "autorange": "reversed",
         "constrain": "domain",
         "domain": [
          0,
          1
         ]
        }
       }
      }
     },
     "metadata": {},
     "output_type": "display_data"
    }
   ],
   "source": [
    "sns.set()\n",
    "comperativeColumn_result.fillna(3, inplace = True)\n",
    "comperativeColumn_result.replace({'There is a relationship': 1, 'There is no relationship': 0}, inplace=True)\n",
    "fig = px.imshow(comperativeColumn_result, color_continuous_scale='Viridis',\n",
    "                title=\"Correlation Matrix\")\n",
    "fig.show()\n",
    "     "
   ]
  },
  {
   "cell_type": "markdown",
   "metadata": {},
   "source": [
    "# Pre Processing"
   ]
  },
  {
   "cell_type": "code",
   "execution_count": 22,
   "metadata": {},
   "outputs": [],
   "source": [
    "category_columns = [\"occupation\", \"age\", \"education_level\", \"marital_status\", \"communication_channel\",\n",
    "                    \"call_month\", \"call_day\", \"previous_campaign_outcome\", \"conversion_status\"]"
   ]
  },
  {
   "cell_type": "code",
   "execution_count": 23,
   "metadata": {},
   "outputs": [
    {
     "data": {
      "text/plain": [
       "array(['unidentified', 'mobile', 'landline'], dtype=object)"
      ]
     },
     "execution_count": 23,
     "metadata": {},
     "output_type": "execute_result"
    }
   ],
   "source": [
    "\n",
    "df.communication_channel.unique()"
   ]
  },
  {
   "cell_type": "code",
   "execution_count": 25,
   "metadata": {},
   "outputs": [],
   "source": [
    "# Replacing categorical values with numerical\n",
    "from sklearn.preprocessing import OrdinalEncoder\n",
    "\n",
    "encode=OrdinalEncoder()\n",
    "df.occupation=encode.fit_transform(df[[\"occupation\"]])\n",
    "df.education_level=encode.fit_transform(df[[\"education_level\"]])\n",
    "df.marital_status=encode.fit_transform(df[[\"marital_status\"]])\n",
    "df.communication_channel=encode.fit_transform(df[[\"communication_channel\"]])\n",
    "df.call_month=encode.fit_transform(df[[\"call_month\"]])\n",
    "df.previous_campaign_outcome=encode.fit_transform(df[[\"previous_campaign_outcome\"]])\n",
    "df.conversion_status=encode.fit_transform(df[[\"conversion_status\"]])"
   ]
  },
  {
   "cell_type": "markdown",
   "metadata": {},
   "source": [
    "# Machine Learning"
   ]
  },
  {
   "cell_type": "code",
   "execution_count": 26,
   "metadata": {},
   "outputs": [],
   "source": [
    "x=df.drop(\"conversion_status\",axis=1)\n",
    "y=df[\"conversion_status\"]"
   ]
  },
  {
   "cell_type": "code",
   "execution_count": 27,
   "metadata": {},
   "outputs": [],
   "source": [
    "x_train,x_test,y_train,y_test=train_test_split(x,y,test_size=0.25)"
   ]
  },
  {
   "cell_type": "code",
   "execution_count": 28,
   "metadata": {},
   "outputs": [],
   "source": [
    "model=DecisionTreeClassifier().fit(x_train,y_train)\n",
    "y_pred=model.predict(x_test)"
   ]
  },
  {
   "cell_type": "code",
   "execution_count": 29,
   "metadata": {},
   "outputs": [
    {
     "data": {
      "text/plain": [
       "0.8708307528974608"
      ]
     },
     "execution_count": 29,
     "metadata": {},
     "output_type": "execute_result"
    }
   ],
   "source": [
    "accuracy_score(y_test,y_pred)"
   ]
  },
  {
   "cell_type": "code",
   "execution_count": 30,
   "metadata": {},
   "outputs": [
    {
     "name": "stderr",
     "output_type": "stream",
     "text": [
      "c:\\Users\\Saravanan\\OneDrive\\Desktop\\Dataset\\.venv\\Lib\\site-packages\\sklearn\\base.py:493: UserWarning:\n",
      "\n",
      "X does not have valid feature names, but DecisionTreeClassifier was fitted with feature names\n",
      "\n"
     ]
    },
    {
     "data": {
      "text/plain": [
       "array([1.])"
      ]
     },
     "execution_count": 30,
     "metadata": {},
     "output_type": "execute_result"
    }
   ],
   "source": [
    "input = np.array([[7,29,3,1,2,9,27,142,4,2]])\n",
    "prediction = model.predict(input)\n",
    "prediction"
   ]
  }
 ],
 "metadata": {
  "kernelspec": {
   "display_name": ".venv",
   "language": "python",
   "name": "python3"
  },
  "language_info": {
   "codemirror_mode": {
    "name": "ipython",
    "version": 3
   },
   "file_extension": ".py",
   "mimetype": "text/x-python",
   "name": "python",
   "nbconvert_exporter": "python",
   "pygments_lexer": "ipython3",
   "version": "3.11.9"
  }
 },
 "nbformat": 4,
 "nbformat_minor": 2
}
